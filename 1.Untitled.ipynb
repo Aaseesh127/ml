{
 "cells": [
  {
   "cell_type": "code",
   "execution_count": 9,
   "metadata": {},
   "outputs": [
    {
     "name": "stdout",
     "output_type": "stream",
     "text": [
      "\n",
      "The given training examples are:\n",
      "['sky', 'airTemp', 'humidity', 'wind', 'water', 'forecast', 'enjoySport']\n",
      "['Sunny', 'Warm', 'Normal', 'Strong', 'Warm', 'Same', 'Yes']\n",
      "['Sunny', 'Warm', 'High', 'Strong', 'Warm', 'Same', 'Yes']\n",
      "['Rainy', 'Cold', 'High', 'Strong', 'Warm', 'Change', 'No']\n",
      "['Sunny', 'Warm', 'High', 'Strong', 'Cool', 'Change', 'Yes']\n",
      "\n",
      "The positive examples are: [['Sunny', 'Warm', 'Normal', 'Strong', 'Warm', 'Same', 'Yes'], ['Sunny', 'Warm', 'High', 'Strong', 'Warm', 'Same', 'Yes'], ['Sunny', 'Warm', 'High', 'Strong', 'Cool', 'Change', 'Yes']]\n",
      "\n",
      "The steps of the Find-s algorithm are :\n",
      "['%', '%', '%', '%', '%', '%']\n",
      "['Sunny', 'Warm', 'Normal', 'Strong', 'Warm', 'Same', 'Yes']\n",
      "['Sunny', 'Warm', '?', 'Strong', 'Warm', 'Same', 'Yes']\n",
      "['Sunny', 'Warm', '?', 'Strong', '?', '?', 'Yes']\n",
      "\n",
      "The Most specific Find-s hypothesis for the given training examples is : ['Sunny', 'Warm', '?', 'Strong', '?', '?', 'Yes']\n"
     ]
    }
   ],
   "source": [
    "import csv\n",
    "\n",
    "positiveDataSamples = []\n",
    "\n",
    "def getPositiveSamples():\n",
    "    with open('trainingdata.csv') as csv_file:\n",
    "        readcsv = csv.reader(csv_file, delimiter=',')\n",
    "\n",
    "        print(\"\\nThe given training examples are:\")\n",
    "        for row in readcsv:\n",
    "            print(row)\n",
    "            if row[-1].upper() == \"YES\":\n",
    "                positiveDataSamples.append(row)\n",
    "\n",
    "    print(\"\\nThe positive examples are:\", positiveDataSamples)\n",
    "    print()\n",
    "getPositiveSamples()\n",
    "\n",
    "\n",
    "#ignoring count for enjoySport field\n",
    "positiveDataLength = len(positiveDataSamples[0])-1\n",
    "print(\"The steps of the Find-s algorithm are :\")\n",
    "initialHypothesis = ['%', '%', '%', '%', '%', '%']\n",
    "print(initialHypothesis)\n",
    "\n",
    "def executeFindS():\n",
    "    hypothesis = positiveDataSamples[0]\n",
    "    for i in range(len(positiveDataSamples)):\n",
    "        for j in range(positiveDataLength):\n",
    "            if hypothesis[j] != positiveDataSamples[i][j]:\n",
    "                hypothesis[j] = '?'\n",
    "        print(hypothesis)\n",
    "    print(\"\\nThe Most specific Find-s hypothesis for the given training examples is :\", hypothesis)\n",
    "\n",
    "\n",
    "executeFindS()"
   ]
  },
  {
   "cell_type": "code",
   "execution_count": null,
   "metadata": {},
   "outputs": [],
   "source": []
  }
 ],
 "metadata": {
  "kernelspec": {
   "display_name": "Python 3",
   "language": "python",
   "name": "python3"
  },
  "language_info": {
   "codemirror_mode": {
    "name": "ipython",
    "version": 3
   },
   "file_extension": ".py",
   "mimetype": "text/x-python",
   "name": "python",
   "nbconvert_exporter": "python",
   "pygments_lexer": "ipython3",
   "version": "3.7.4"
  }
 },
 "nbformat": 4,
 "nbformat_minor": 2
}
